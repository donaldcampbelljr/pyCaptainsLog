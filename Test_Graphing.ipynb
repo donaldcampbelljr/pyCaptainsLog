{
 "cells": [
  {
   "cell_type": "code",
   "execution_count": 1,
   "id": "c55ced05-ff70-4c4b-aa63-064daf2263c8",
   "metadata": {},
   "outputs": [],
   "source": [
    "import pandas as pd"
   ]
  },
  {
   "cell_type": "code",
   "execution_count": 2,
   "id": "cbc8b8d7-7f27-4221-a8bb-04c4404a9a9c",
   "metadata": {},
   "outputs": [],
   "source": [
    "df = pd.read_csv('/home/drc/GITHUB/pyCaptainsLog/starsystemsuniverse.csv')"
   ]
  },
  {
   "cell_type": "code",
   "execution_count": 3,
   "id": "0f40795e-a03e-4a5c-9dc2-1792a9a3e62c",
   "metadata": {},
   "outputs": [
    {
     "data": {
      "text/html": [
       "<div>\n",
       "<style scoped>\n",
       "    .dataframe tbody tr th:only-of-type {\n",
       "        vertical-align: middle;\n",
       "    }\n",
       "\n",
       "    .dataframe tbody tr th {\n",
       "        vertical-align: top;\n",
       "    }\n",
       "\n",
       "    .dataframe thead th {\n",
       "        text-align: right;\n",
       "    }\n",
       "</style>\n",
       "<table border=\"1\" class=\"dataframe\">\n",
       "  <thead>\n",
       "    <tr style=\"text-align: right;\">\n",
       "      <th></th>\n",
       "      <th>Unnamed: 0</th>\n",
       "      <th>StarSystemName</th>\n",
       "      <th>alien</th>\n",
       "      <th>file_name</th>\n",
       "      <th>intro_text</th>\n",
       "      <th>linked_systems</th>\n",
       "      <th>planets</th>\n",
       "    </tr>\n",
       "  </thead>\n",
       "  <tbody>\n",
       "    <tr>\n",
       "      <th>0</th>\n",
       "      <td>0</td>\n",
       "      <td>Mara Beta</td>\n",
       "      <td>Zylinee</td>\n",
       "      <td>marabeta.yaml</td>\n",
       "      <td>Gliese 581 is a star system located about 20 l...</td>\n",
       "      <td>['Belonor']</td>\n",
       "      <td>['Exoiaia', 'Aeth Minor Beta', 'Jov Major Prim...</td>\n",
       "    </tr>\n",
       "    <tr>\n",
       "      <th>1</th>\n",
       "      <td>1</td>\n",
       "      <td>Ross_248</td>\n",
       "      <td>Ross_248_aliens</td>\n",
       "      <td>NaN</td>\n",
       "      <td>Welcome to the Ross_248 system!</td>\n",
       "      <td>['alpha_centauri']</td>\n",
       "      <td>['Ross 248 Planet A']</td>\n",
       "    </tr>\n",
       "    <tr>\n",
       "      <th>2</th>\n",
       "      <td>2</td>\n",
       "      <td>Sol</td>\n",
       "      <td>Humans</td>\n",
       "      <td>NaN</td>\n",
       "      <td>Welcome to the Sol system!</td>\n",
       "      <td>['alpha_centauri']</td>\n",
       "      <td>['Earth', 'Mars']</td>\n",
       "    </tr>\n",
       "    <tr>\n",
       "      <th>3</th>\n",
       "      <td>3</td>\n",
       "      <td>Alpha_Centauri</td>\n",
       "      <td>Alpha_Centauri_aliens</td>\n",
       "      <td>NaN</td>\n",
       "      <td>Welcome to the Alpha_Centauri system!</td>\n",
       "      <td>['sol', 'ross_248']</td>\n",
       "      <td>['Proxima Centauri a', 'Proxima Centauri b', '...</td>\n",
       "    </tr>\n",
       "    <tr>\n",
       "      <th>4</th>\n",
       "      <td>4</td>\n",
       "      <td>Xan Minor Minor</td>\n",
       "      <td>Zyronkaryr</td>\n",
       "      <td>xanminorminor.yaml</td>\n",
       "      <td>Kepler-452b is a confirmed exoplanet that orbi...</td>\n",
       "      <td>['Sol']</td>\n",
       "      <td>['Xanethos', 'Exo Betaa', 'Nebar Major', 'Exoe...</td>\n",
       "    </tr>\n",
       "  </tbody>\n",
       "</table>\n",
       "</div>"
      ],
      "text/plain": [
       "   Unnamed: 0   StarSystemName                  alien           file_name  \\\n",
       "0           0        Mara Beta                Zylinee       marabeta.yaml   \n",
       "1           1         Ross_248        Ross_248_aliens                 NaN   \n",
       "2           2              Sol                 Humans                 NaN   \n",
       "3           3   Alpha_Centauri  Alpha_Centauri_aliens                 NaN   \n",
       "4           4  Xan Minor Minor             Zyronkaryr  xanminorminor.yaml   \n",
       "\n",
       "                                          intro_text       linked_systems  \\\n",
       "0  Gliese 581 is a star system located about 20 l...          ['Belonor']   \n",
       "1                    Welcome to the Ross_248 system!   ['alpha_centauri']   \n",
       "2                         Welcome to the Sol system!   ['alpha_centauri']   \n",
       "3              Welcome to the Alpha_Centauri system!  ['sol', 'ross_248']   \n",
       "4  Kepler-452b is a confirmed exoplanet that orbi...              ['Sol']   \n",
       "\n",
       "                                             planets  \n",
       "0  ['Exoiaia', 'Aeth Minor Beta', 'Jov Major Prim...  \n",
       "1                              ['Ross 248 Planet A']  \n",
       "2                                  ['Earth', 'Mars']  \n",
       "3  ['Proxima Centauri a', 'Proxima Centauri b', '...  \n",
       "4  ['Xanethos', 'Exo Betaa', 'Nebar Major', 'Exoe...  "
      ]
     },
     "execution_count": 3,
     "metadata": {},
     "output_type": "execute_result"
    }
   ],
   "source": [
    "df.head()"
   ]
  },
  {
   "cell_type": "code",
   "execution_count": null,
   "id": "59d3f226-eef3-4fee-a0ca-191f249fec68",
   "metadata": {},
   "outputs": [],
   "source": []
  }
 ],
 "metadata": {
  "kernelspec": {
   "display_name": "Python 3 (ipykernel)",
   "language": "python",
   "name": "python3"
  },
  "language_info": {
   "codemirror_mode": {
    "name": "ipython",
    "version": 3
   },
   "file_extension": ".py",
   "mimetype": "text/x-python",
   "name": "python",
   "nbconvert_exporter": "python",
   "pygments_lexer": "ipython3",
   "version": "3.10.12"
  }
 },
 "nbformat": 4,
 "nbformat_minor": 5
}
